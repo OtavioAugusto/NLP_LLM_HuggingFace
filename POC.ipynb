{
  "nbformat": 4,
  "nbformat_minor": 0,
  "metadata": {
    "colab": {
      "provenance": []
    },
    "kernelspec": {
      "name": "python3",
      "display_name": "Python 3"
    },
    "language_info": {
      "name": "python"
    }
  },
  "cells": [
    {
      "cell_type": "code",
      "execution_count": null,
      "metadata": {
        "id": "Md9Q3Onf-ixB"
      },
      "outputs": [],
      "source": [
        "!pip install ipywidgets ipython"
      ]
    },
    {
      "cell_type": "markdown",
      "source": [
        "##### Suponha que queremos fazer uma ação de marketing de lançamento, com um avaliador que já tenha feito review de muitos livros de um determinado autor de forma positiva. Queremos ranquear os melhores para essa ação"
      ],
      "metadata": {
        "id": "izI69XKF1qOx"
      }
    },
    {
      "cell_type": "code",
      "source": [
        "import ipywidgets as widgets\n",
        "from IPython.display import display, clear_output\n",
        "\n",
        "# Carregar o DataFrame\n",
        "df = pd.read_pickle(\"processed_reviews.pkl\")\n",
        "\n",
        "# Criar uma caixa de texto para entrada do nome do autor\n",
        "author_input = widgets.Text(\n",
        "    value='',\n",
        "    placeholder='Digite o nome do autor',\n",
        "    description='Autor:',\n",
        "    disabled=False\n",
        ")\n",
        "\n",
        "# Criar um botão para submeter a busca\n",
        "search_button = widgets.Button(\n",
        "    description='Buscar',\n",
        "    disabled=False,\n",
        "    button_style='',  # 'success', 'info', 'warning', 'danger' or ''\n",
        "    tooltip='Clique para buscar avaliações positivas do autor existente em sua Editora',\n",
        "    icon='search'  # ícone do FontAwesome\n",
        ")\n",
        "\n",
        "# Função para lidar com o evento de clique no botão\n",
        "def on_search_button_clicked(b):\n",
        "    author_name = author_input.value\n",
        "    if author_name:\n",
        "        # Filtrar avaliações que mencionam o autor\n",
        "        author_reviews = df[df['authors'].str.contains(author_name, na=False, case=False)]\n",
        "        if not author_reviews.empty:\n",
        "            # Avaliações positivas\n",
        "            positive_reviews = author_reviews[author_reviews['sentiment'] == 'POSITIVE']\n",
        "            # Contagem de avaliações positivas por usuário\n",
        "            user_positive_counts = positive_reviews.groupby('profileName').size().sort_values(ascending=False)\n",
        "            ranked_users = user_positive_counts.reset_index(name='positive_review_count')\n",
        "            ranked_users.sort_values(by='positive_review_count', ascending=False, inplace=True)\n",
        "            # Display the top reviewers\n",
        "            with output:\n",
        "                clear_output()\n",
        "                display(ranked_users.head())\n",
        "        else:\n",
        "            with output:\n",
        "                clear_output()\n",
        "                print(f\"Não foram encontradas avaliações para o autor '{author_name}'.\")\n",
        "    else:\n",
        "        with output:\n",
        "            clear_output()\n",
        "            print(\"Por favor, insira o nome de um autor.\")\n",
        "\n",
        "# Evento de clique no botão\n",
        "search_button.on_click(on_search_button_clicked)\n",
        "\n",
        "# Saída para mostrar os resultados ou mensagens\n",
        "output = widgets.Output()\n",
        "\n",
        "# Mostrar os widgets\n",
        "display(author_input, search_button, output)\n"
      ],
      "metadata": {
        "id": "G_IKyQ9P-qqj"
      },
      "execution_count": null,
      "outputs": []
    }
  ]
}