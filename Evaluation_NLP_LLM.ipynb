{
  "nbformat": 4,
  "nbformat_minor": 0,
  "metadata": {
    "colab": {
      "provenance": []
    },
    "kernelspec": {
      "name": "python3",
      "display_name": "Python 3"
    },
    "language_info": {
      "name": "python"
    }
  },
  "cells": [
    {
      "cell_type": "code",
      "source": [
        "!pip install pandas sklearn transformers"
      ],
      "metadata": {
        "id": "aT-4IsBY_MJr"
      },
      "execution_count": null,
      "outputs": []
    },
    {
      "cell_type": "code",
      "execution_count": null,
      "metadata": {
        "id": "HUizZain_CYU"
      },
      "outputs": [],
      "source": [
        "import pandas as pd\n",
        "from sklearn.model_selection import train_test_split\n",
        "\n",
        "# Carregar o DataFrame\n",
        "df = pd.read_pickle(\"processed_reviews.pkl\")\n",
        "\n",
        "# Dividir o dataset em conjuntos de treino e teste\n",
        "train_df, test_df = train_test_split(df, test_size=0.3, random_state=42)"
      ]
    },
    {
      "cell_type": "code",
      "source": [
        "from transformers import pipeline\n",
        "\n",
        "# Inicializar a pipeline de análise de sentimentos\n",
        "sentiment_pipeline = pipeline(\"sentiment-analysis\")"
      ],
      "metadata": {
        "id": "QspR6Sqh_IUF"
      },
      "execution_count": null,
      "outputs": []
    },
    {
      "cell_type": "code",
      "source": [
        "# Aplicar o modelo de análise de sentimentos ao texto do conjunto de teste\n",
        "test_df['predicted_sentiment'] = test_df['text'].apply(lambda x: sentiment_pipeline(x)[0]['label'])"
      ],
      "metadata": {
        "id": "QjiGnL6e_QrS"
      },
      "execution_count": null,
      "outputs": []
    },
    {
      "cell_type": "code",
      "source": [
        "from sklearn.metrics import accuracy_score\n",
        "\n",
        "# Calcular a precisão\n",
        "accuracy = accuracy_score(test_df['sentiment'], test_df['predicted_sentiment'])\n",
        "f\"Acurácia da Análise de Sentimentos no Conjunto de Teste: {accuracy * 100:.2f}%\""
      ],
      "metadata": {
        "id": "aPLQWys9_Uth"
      },
      "execution_count": null,
      "outputs": []
    },
    {
      "cell_type": "code",
      "source": [],
      "metadata": {
        "id": "3ta6vSNB_gah"
      },
      "execution_count": null,
      "outputs": []
    }
  ]
}